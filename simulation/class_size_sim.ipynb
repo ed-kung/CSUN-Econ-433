{
 "cells": [
  {
   "cell_type": "code",
   "execution_count": 1,
   "id": "f8747bd1-da8b-4d4c-aea6-f533719036e0",
   "metadata": {},
   "outputs": [],
   "source": [
    "import numpy as np\n",
    "import pandas as pd\n",
    "np.random.seed(100) "
   ]
  },
  {
   "cell_type": "code",
   "execution_count": 2,
   "id": "bc2ba9ba-b609-4f77-a600-10475ea7fb45",
   "metadata": {},
   "outputs": [],
   "source": [
    "# Simulation parameters and exogenous factors\n",
    "\n",
    "n_reg = 10000  # cohort of regular students\n",
    "n_exp = 10000  # cohort of experimental students\n",
    "n_stu = n_reg + n_exp\n",
    "\n",
    "# Simulate race\n",
    "race_codes = ['WHITE', 'BLACK', 'HISPANIC', 'ASIAN'] # race codes\n",
    "race_probs = [0.5, 0.15, 0.2, 0.15] # race probabilities\n",
    "race = np.random.choice(race_codes, size=n_stu, replace=True, p=race_probs)\n",
    "\n",
    "# Simulate ability score\n",
    "ability_u = np.random.uniform(low=0, high=25, size=n_stu) \n",
    "\n",
    "# Simulate income (function of race and ability score)\n",
    "inc_mean = 60000\n",
    "log_inc_sd = 0.2\n",
    "log_fam_inc = np.log(inc_mean) + \\\n",
    "              np.random.normal(loc=0.0, scale=log_inc_sd, size=n_stu) + \\\n",
    "              0.20*(race=='ASIAN') + \\\n",
    "              -0.30*(race=='BLACK') + \\\n",
    "              -0.25*(race=='HISPANIC') + \\\n",
    "              0.0*(ability_u - np.mean(ability_u))/(np.max(ability_u) - np.min(ability_u))\n",
    "inc = np.exp(log_fam_inc)\n",
    "\n",
    "# Regular cohort, class size probability formula\n",
    "prob_small_reg = 0.0 + \\\n",
    "                 0.50*(ability_u - np.min(ability_u))/(np.max(ability_u) - np.min(ability_u)) + \\\n",
    "                 0.50*(log_fam_inc - np.min(log_fam_inc))/(np.max(log_fam_inc) - np.min(log_fam_inc)) + \\\n",
    "                 -0.25*(race=='BLACK') + \\\n",
    "                 -0.25*(race=='HISPANIC') \n",
    "\n",
    "# Experimental cohort, class size probability formula\n",
    "prob_small_exp = 0.5\n",
    "\n",
    "# Target class sizes\n",
    "class_sz_small = 15.0\n",
    "class_sz_large = 30.0\n",
    "\n",
    "# Teacher MA assignment probs\n",
    "ma_small = 0.75\n",
    "ma_large = 0.25\n",
    "\n",
    "# schools\n",
    "n_schools = 20\n",
    "school_effect_range = 5\n"
   ]
  },
  {
   "cell_type": "code",
   "execution_count": 3,
   "id": "6862891e-48ef-4645-bc19-d32bf8bdb9a5",
   "metadata": {},
   "outputs": [],
   "source": [
    "# Initialize student dataframe\n",
    "stu_df = pd.DataFrame.from_dict({\n",
    "    'log_fam_inc': log_fam_inc, \n",
    "    'race': race, \n",
    "    'ability': ability_u\n",
    "})\n",
    "\n",
    "stu_df['cohort'] = 'EXPERIMENTAL'\n",
    "stu_df.loc[0:n_reg-1, 'cohort'] = 'REGULAR'\n",
    "stu_df['class_size'] = 'LARGE'\n",
    "\n"
   ]
  },
  {
   "cell_type": "code",
   "execution_count": 4,
   "id": "d6f2a340-1727-41fe-a92a-104c8f6089f1",
   "metadata": {},
   "outputs": [],
   "source": [
    "# Make the class size assignment for the regular cohort\n",
    "assign = np.random.uniform(size=n_stu) < prob_small_reg\n",
    "stu_df.loc[assign & (stu_df['cohort']=='REGULAR'), 'class_size'] = 'SMALL'\n",
    "\n",
    "# Make the class size assignment for the experimental cohort\n",
    "assign = np.random.uniform(size=n_stu) < prob_small_exp\n",
    "stu_df.loc[assign & (stu_df['cohort']=='EXPERIMENTAL'), 'class_size'] = 'SMALL'\n"
   ]
  },
  {
   "cell_type": "code",
   "execution_count": 5,
   "id": "14156cc1-c74c-45a3-80cc-d01eeb6c6828",
   "metadata": {},
   "outputs": [
    {
     "name": "stdout",
     "output_type": "stream",
     "text": [
      "SMALL: 9192 students, 612 classes, class_id range: 50001.0-50612.0\n",
      "LARGE: 10808 students, 360 classes, class_id range: 52001.0-52360.0\n"
     ]
    }
   ],
   "source": [
    "# Allocate students to classes\n",
    "\n",
    "n_stu_small = np.sum(stu_df['class_size']=='SMALL')\n",
    "n_stu_large = np.sum(stu_df['class_size']=='LARGE')\n",
    "\n",
    "n_classes_small = int(n_stu_small/class_sz_small)\n",
    "n_classes_large = int(n_stu_large/class_sz_large)\n",
    "\n",
    "small = stu_df['class_size']=='SMALL'\n",
    "\n",
    "stu_df['ord'] = 0\n",
    "stu_df.loc[small, 'ord'] = np.arange(n_stu_small)\n",
    "stu_df.loc[~small, 'ord'] = np.arange(n_stu_large)\n",
    "\n",
    "stu_df.loc[small, 'class_id'] = 50001 + (stu_df.loc[small, 'ord'] % n_classes_small)\n",
    "stu_df.loc[~small, 'class_id'] = 52001 + (stu_df.loc[~small, 'ord'] % n_classes_large)\n",
    "\n",
    "print(f\"SMALL: {n_stu_small} students, {n_classes_small} classes, class_id range: {stu_df.loc[small,'class_id'].min()}-{stu_df.loc[small,'class_id'].max()}\")\n",
    "print(f\"LARGE: {n_stu_large} students, {n_classes_large} classes, class_id range: {stu_df.loc[~small,'class_id'].min()}-{stu_df.loc[~small,'class_id'].max()}\")\n"
   ]
  },
  {
   "cell_type": "code",
   "execution_count": 6,
   "id": "d18517b7-ad3b-4513-a6a3-3dcd6d69d000",
   "metadata": {},
   "outputs": [],
   "source": [
    "# Create class dataframe\n",
    "\n",
    "cls_df = stu_df[['class_id', 'class_size']].copy().drop_duplicates()\n",
    "stu_df = stu_df.drop(labels='class_size', axis=1)\n",
    "\n",
    "# Assign teacher ma\n",
    "u = np.random.uniform(size=len(cls_df))\n",
    "small_idx = cls_df['class_size']=='SMALL'\n",
    "\n",
    "cls_df['teacher_has_ma'] = False\n",
    "cls_df.loc[ small_idx, 'teacher_has_ma'] = u[small_idx] < ma_small\n",
    "cls_df.loc[ ~small_idx, 'teacher_has_ma'] = u[~small_idx] < ma_large\n",
    "\n",
    "# Randomly allocate classrooms to schools\n",
    "cls_df['school_id'] = 63001 + np.random.randint(low=0, high=n_schools, size=len(cls_df))\n"
   ]
  },
  {
   "cell_type": "code",
   "execution_count": 7,
   "id": "0dc24c52-8040-4014-8e63-31d5b43a89d3",
   "metadata": {},
   "outputs": [],
   "source": [
    "# School effects dataframe\n",
    "\n",
    "sch_df = cls_df.groupby('school_id').agg(n_classes = ('class_id','count')).reset_index()\n",
    "sch_df['school_effect'] = np.random.uniform(low=-school_effect_range, high=school_effect_range, size=n_schools)\n"
   ]
  },
  {
   "cell_type": "code",
   "execution_count": 8,
   "id": "be3efb87-6481-4e41-87b3-d8444a8030d4",
   "metadata": {},
   "outputs": [
    {
     "name": "stdout",
     "output_type": "stream",
     "text": [
      "Test score range: 37.160602193812814-94.62523325748843\n"
     ]
    }
   ],
   "source": [
    "# Test scores\n",
    "\n",
    "stu_df = stu_df.merge(cls_df, on='class_id', how='left')\n",
    "stu_df = stu_df.merge(sch_df, on='school_id', how='left')\n",
    "\n",
    "stu_df['test_score'] = 60 + \\\n",
    "                       30*(stu_df['ability'] - stu_df['ability'].mean()) / (stu_df['ability'].max() - stu_df['ability'].min()) + \\\n",
    "                       5*(stu_df['class_size']=='SMALL') + \\\n",
    "                       7.5*(stu_df['teacher_has_ma']) + \\\n",
    "                       1*(stu_df['school_effect']) + \\\n",
    "                       10*(stu_df['log_fam_inc'] - stu_df['log_fam_inc'].mean()) / (stu_df['log_fam_inc'].max() - stu_df['log_fam_inc'].min())\n",
    "\n",
    "print(f\"Test score range: {stu_df['test_score'].min()}-{stu_df['test_score'].max()}\")\n"
   ]
  },
  {
   "cell_type": "code",
   "execution_count": 9,
   "id": "37055362-421b-4433-9b3e-3648b569373d",
   "metadata": {},
   "outputs": [],
   "source": [
    "# Prepare output\n",
    "stu_file = '../data/class_size/students.csv'\n",
    "cls_file = '../data/class_size/classes.csv'\n",
    "\n",
    "stu_df = stu_df.sample(frac=1).reset_index(drop=True)\n",
    "stu_df['family_income'] = np.round(np.exp(stu_df['log_fam_inc']))\n",
    "stu_df = stu_df.sort_values(by=['class_id'], ascending=True)\n",
    "stu_df['student_id'] = np.arange(n_stu)\n",
    "\n",
    "stu_df[['student_id', 'class_id', 'school_id', 'test_score', 'family_income', 'race', 'cohort']].to_csv(stu_file, header=True, index=False)\n",
    "cls_df[['class_id', 'school_id', 'class_size', 'teacher_has_ma']].to_csv(cls_file, header=True, index=False)\n"
   ]
  }
 ],
 "metadata": {
  "kernelspec": {
   "display_name": "Python 3 (ipykernel)",
   "language": "python",
   "name": "python3"
  },
  "language_info": {
   "codemirror_mode": {
    "name": "ipython",
    "version": 3
   },
   "file_extension": ".py",
   "mimetype": "text/x-python",
   "name": "python",
   "nbconvert_exporter": "python",
   "pygments_lexer": "ipython3",
   "version": "3.10.6"
  }
 },
 "nbformat": 4,
 "nbformat_minor": 5
}
