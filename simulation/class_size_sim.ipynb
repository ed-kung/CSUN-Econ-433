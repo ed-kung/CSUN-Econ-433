{
 "cells": [
  {
   "cell_type": "code",
   "execution_count": 53,
   "id": "f8747bd1-da8b-4d4c-aea6-f533719036e0",
   "metadata": {},
   "outputs": [],
   "source": [
    "import numpy as np\n",
    "import pandas as pd\n",
    "np.random.seed(100) "
   ]
  },
  {
   "cell_type": "code",
   "execution_count": 54,
   "id": "93beb19c-ffc5-436f-90f2-566b5e1da070",
   "metadata": {},
   "outputs": [],
   "source": [
    "# Simulation parameters and exogenous factors\n",
    "\n",
    "n_reg = 4000  # cohort of regular students\n",
    "n_exp = 2000  # cohort of experimental students\n",
    "n_stu = n_reg + n_exp\n",
    "\n",
    "# Simulate race\n",
    "race_codes = ['WHITE', 'BLACK', 'HISPANIC', 'ASIAN'] # race codes\n",
    "race_probs = [0.5, 0.15, 0.2, 0.15] # race probabilities\n",
    "race = np.random.choice(race_codes, size=n_stu, replace=True, p=race_probs)\n",
    "\n",
    "# Simulate family income\n",
    "fam_inc_min = 30000  # min family income\n",
    "fam_inc_max = 150000 # max family income\n",
    "incdenom = np.log(fam_inc_max) - np.log(fam_inc_min)\n",
    "fam_inc = np.random.randint(low=fam_inc_min, high=fam_inc_max, size=n_stu)\n",
    "\n",
    "# ability score that depends on family income\n",
    "# ability = 10*(log(inc)-log(inc_min))/(log(inc_max)-log(inc_min)) + U[0,25]\n",
    "ability = 10*(np.log(fam_inc) - np.log(fam_inc_min))/incdenom + np.random.uniform(low=0, high=25, size=n_stu)\n"
   ]
  },
  {
   "cell_type": "code",
   "execution_count": 55,
   "id": "f50f6649-5d6a-43d7-8310-2b92175ee3f8",
   "metadata": {},
   "outputs": [],
   "source": [
    "# Initialize student dataframe\n",
    "stu_df = pd.DataFrame.from_dict({\n",
    "    'family_income': fam_inc, \n",
    "    'race': race, \n",
    "    'ability': ability\n",
    "})\n",
    "\n",
    "stu_df['cohort'] = 'EXPERIMENTAL'\n",
    "stu_df.loc[0:n_reg-1, 'cohort'] = 'REGULAR'\n"
   ]
  },
  {
   "cell_type": "code",
   "execution_count": 56,
   "id": "fe53b709-007a-4f47-8cd8-05639a23e167",
   "metadata": {},
   "outputs": [],
   "source": [
    "# For regular cohort, class size assignment depends on income and race\n",
    "prob_small = 0.25 + 0.2*(np.log(fam_inc) - np.log(fam_inc_min))/incdenom + 0.1*(race=='WHITE') + 0.15*(race=='ASIAN')\n",
    "assign = np.random.uniform(size=n_stu) < prob_small\n",
    "stu_df['class_size'] = 'LARGE'\n",
    "stu_df.loc[assign & (stu_df['cohort']=='REGULAR'), 'class_size'] = 'SMALL'"
   ]
  },
  {
   "cell_type": "code",
   "execution_count": 57,
   "id": "45895fae-9996-4f8f-b286-526fe860858d",
   "metadata": {},
   "outputs": [],
   "source": [
    "# For experimental cohort, class size assignment is random\n",
    "prob_small = 0.5\n",
    "assign = np.random.uniform(size=n_stu) < prob_small\n",
    "stu_df.loc[assign & (stu_df['cohort']=='EXPERIMENTAL'), 'class_size'] = 'SMALL'"
   ]
  },
  {
   "cell_type": "code",
   "execution_count": 58,
   "id": "eed036e6-63f3-4c50-ad9c-40bd6b626de3",
   "metadata": {},
   "outputs": [],
   "source": [
    "# Allocate students to classes\n",
    "class_sz_small = 15\n",
    "class_sz_large = 30\n",
    "\n",
    "n_stu_small = np.sum(stu_df['class_size']=='SMALL')\n",
    "n_stu_large = np.sum\n",
    "\n",
    "n_classes_small = int(np.sum(stu_df['class_size']=='SMALL')/class_sz_small)\n",
    "n_classes_large = int(np.sum(stu_df['class_size']=='LARGE')/class_sz_large)\n",
    "n_stu_small = \n",
    "\n",
    "\n"
   ]
  },
  {
   "cell_type": "code",
   "execution_count": 61,
   "id": "f9d0ef7b-ef8d-4df5-a34a-4609c9cfc72f",
   "metadata": {},
   "outputs": [
    {
     "data": {
      "text/plain": [
       "106"
      ]
     },
     "execution_count": 61,
     "metadata": {},
     "output_type": "execute_result"
    }
   ],
   "source": [
    "n_classes_large"
   ]
  },
  {
   "cell_type": "code",
   "execution_count": 3,
   "id": "f008b744-393d-47f7-b476-206e9ad3daeb",
   "metadata": {},
   "outputs": [],
   "source": [
    "# Simulate student-level variables\n",
    "\n",
    "student_id = np.arange(n_students)  # student ids\n",
    "fam_inc = np.random.randint(low=fam_inc_min, high=fam_inc_max, size=n_students)  # simulate family income\n",
    "race = np.random.choice(race_codes, size=n_students, replace=True, p=race_probs)  # simulate race\n",
    "\n",
    "ability = ability_coefs[0] + \\\n",
    "    ability_coefs[1]*np.log(fam_inc) + \\\n",
    "    np.random.uniform(low=0, high=umax, size=n_students)\n",
    "\n",
    "init_assign = np.random.choice([\"SMALL\", \"LARGE\"], size=n_students, replace=True, p=[small_assign_prob, 1-small_assign_prob])  # initial assignment\n",
    "\n",
    "reassign_prob = reassign_coefs[0] + \\\n",
    "    reassign_coefs[1] * ability + \\\n",
    "    reassign_coefs[2] * (race=='ASIAN')  # probability of reassignment to small if initially assigned to large\n",
    "\n",
    "reassign = (np.random.uniform(size=n_students) < reassign_prob)  # whether will be reassigned to small if initially assigned to large\n",
    "\n",
    "small = (init_assign=='SMALL') | reassign  # actual assignment to small\n",
    "\n",
    "noise = np.random.uniform(size=n_students) < assignment_noise\n",
    "small[noise] = ~small[noise]\n"
   ]
  },
  {
   "cell_type": "code",
   "execution_count": 35,
   "id": "0eb9d8bb-2509-4704-8852-b3bb06b8c62b",
   "metadata": {},
   "outputs": [
    {
     "data": {
      "text/html": [
       "<div>\n",
       "<style scoped>\n",
       "    .dataframe tbody tr th:only-of-type {\n",
       "        vertical-align: middle;\n",
       "    }\n",
       "\n",
       "    .dataframe tbody tr th {\n",
       "        vertical-align: top;\n",
       "    }\n",
       "\n",
       "    .dataframe thead th {\n",
       "        text-align: right;\n",
       "    }\n",
       "</style>\n",
       "<table border=\"1\" class=\"dataframe\">\n",
       "  <thead>\n",
       "    <tr style=\"text-align: right;\">\n",
       "      <th></th>\n",
       "      <th>family_income</th>\n",
       "      <th>race</th>\n",
       "      <th>ability</th>\n",
       "      <th>cohort</th>\n",
       "      <th>class_size</th>\n",
       "    </tr>\n",
       "  </thead>\n",
       "  <tbody>\n",
       "    <tr>\n",
       "      <th>0</th>\n",
       "      <td>48350</td>\n",
       "      <td>BLACK</td>\n",
       "      <td>12.567292</td>\n",
       "      <td>REGULAR</td>\n",
       "      <td></td>\n",
       "    </tr>\n",
       "    <tr>\n",
       "      <th>1</th>\n",
       "      <td>53830</td>\n",
       "      <td>WHITE</td>\n",
       "      <td>17.768527</td>\n",
       "      <td>REGULAR</td>\n",
       "      <td>SMALL</td>\n",
       "    </tr>\n",
       "    <tr>\n",
       "      <th>2</th>\n",
       "      <td>48342</td>\n",
       "      <td>WHITE</td>\n",
       "      <td>27.078016</td>\n",
       "      <td>REGULAR</td>\n",
       "      <td></td>\n",
       "    </tr>\n",
       "    <tr>\n",
       "      <th>3</th>\n",
       "      <td>148027</td>\n",
       "      <td>HISPANIC</td>\n",
       "      <td>24.698552</td>\n",
       "      <td>REGULAR</td>\n",
       "      <td>SMALL</td>\n",
       "    </tr>\n",
       "    <tr>\n",
       "      <th>4</th>\n",
       "      <td>32591</td>\n",
       "      <td>WHITE</td>\n",
       "      <td>13.166611</td>\n",
       "      <td>REGULAR</td>\n",
       "      <td>SMALL</td>\n",
       "    </tr>\n",
       "    <tr>\n",
       "      <th>...</th>\n",
       "      <td>...</td>\n",
       "      <td>...</td>\n",
       "      <td>...</td>\n",
       "      <td>...</td>\n",
       "      <td>...</td>\n",
       "    </tr>\n",
       "    <tr>\n",
       "      <th>5995</th>\n",
       "      <td>145237</td>\n",
       "      <td>WHITE</td>\n",
       "      <td>16.057479</td>\n",
       "      <td>EXPERIMENTAL</td>\n",
       "      <td></td>\n",
       "    </tr>\n",
       "    <tr>\n",
       "      <th>5996</th>\n",
       "      <td>130838</td>\n",
       "      <td>WHITE</td>\n",
       "      <td>22.975937</td>\n",
       "      <td>EXPERIMENTAL</td>\n",
       "      <td></td>\n",
       "    </tr>\n",
       "    <tr>\n",
       "      <th>5997</th>\n",
       "      <td>35761</td>\n",
       "      <td>ASIAN</td>\n",
       "      <td>1.316183</td>\n",
       "      <td>EXPERIMENTAL</td>\n",
       "      <td></td>\n",
       "    </tr>\n",
       "    <tr>\n",
       "      <th>5998</th>\n",
       "      <td>144389</td>\n",
       "      <td>HISPANIC</td>\n",
       "      <td>14.011621</td>\n",
       "      <td>EXPERIMENTAL</td>\n",
       "      <td></td>\n",
       "    </tr>\n",
       "    <tr>\n",
       "      <th>5999</th>\n",
       "      <td>67827</td>\n",
       "      <td>WHITE</td>\n",
       "      <td>26.694421</td>\n",
       "      <td>EXPERIMENTAL</td>\n",
       "      <td></td>\n",
       "    </tr>\n",
       "  </tbody>\n",
       "</table>\n",
       "<p>6000 rows × 5 columns</p>\n",
       "</div>"
      ],
      "text/plain": [
       "      family_income      race    ability        cohort class_size\n",
       "0             48350     BLACK  12.567292       REGULAR           \n",
       "1             53830     WHITE  17.768527       REGULAR      SMALL\n",
       "2             48342     WHITE  27.078016       REGULAR           \n",
       "3            148027  HISPANIC  24.698552       REGULAR      SMALL\n",
       "4             32591     WHITE  13.166611       REGULAR      SMALL\n",
       "...             ...       ...        ...           ...        ...\n",
       "5995         145237     WHITE  16.057479  EXPERIMENTAL           \n",
       "5996         130838     WHITE  22.975937  EXPERIMENTAL           \n",
       "5997          35761     ASIAN   1.316183  EXPERIMENTAL           \n",
       "5998         144389  HISPANIC  14.011621  EXPERIMENTAL           \n",
       "5999          67827     WHITE  26.694421  EXPERIMENTAL           \n",
       "\n",
       "[6000 rows x 5 columns]"
      ]
     },
     "execution_count": 35,
     "metadata": {},
     "output_type": "execute_result"
    }
   ],
   "source": [
    "stu_df"
   ]
  },
  {
   "cell_type": "code",
   "execution_count": 4,
   "id": "682bdf1d-8f9d-40f9-b8d4-b7c028c42d40",
   "metadata": {},
   "outputs": [],
   "source": [
    "# Allocate students to classrooms\n",
    "n_small = np.sum(small)\n",
    "n_large = n_students - n_small\n",
    "\n",
    "order_id = np.zeros(n_students)\n",
    "order_id[small] = np.arange(n_small)\n",
    "order_id[~small] = np.arange(n_large)\n",
    "\n",
    "class_id = np.zeros(n_students)\n",
    "class_id[small] = np.floor(order_id[small] / size_small) + 70001\n",
    "class_id[~small] = np.floor(order_id[~small] / size_large) + 80001\n"
   ]
  },
  {
   "cell_type": "code",
   "execution_count": 5,
   "id": "0dae7618-5ac3-4cba-810b-6783f8a678cb",
   "metadata": {},
   "outputs": [],
   "source": [
    "# Student level dataframe\n",
    "stu_df = pd.DataFrame.from_dict({\n",
    "    'student_id': student_id, \n",
    "    'family_income': fam_inc, \n",
    "    'race': race,\n",
    "    'ability': ability,\n",
    "    'initial_assignment': init_assign, \n",
    "    'class_id': class_id\n",
    "})\n"
   ]
  },
  {
   "cell_type": "code",
   "execution_count": 6,
   "id": "0dc4c213-4fe1-49dd-b0dd-6532b4b19017",
   "metadata": {},
   "outputs": [],
   "source": [
    "# Class level dataframe\n",
    "class_id = sorted(list(stu_df['class_id'].unique()))\n",
    "cls_df = pd.DataFrame.from_dict({'class_id':class_id})\n",
    "\n",
    "class_small = cls_df['class_id'] < 80000\n",
    "cls_df['class_size'] = 'LARGE'\n",
    "cls_df.loc[ class_small, 'class_size'] = 'SMALL'\n",
    "\n",
    "n_class = len(class_id)\n",
    "n_class_small = np.sum(class_small)\n",
    "n_class_large = np.sum(~class_small)\n",
    "\n",
    "# simulate whether class teacher has masters degree\n",
    "u = np.random.uniform(size=n_class)\n",
    "cls_df['teacher_has_ma'] = False\n",
    "cls_df.loc[ class_small, 'teacher_has_ma'] = u[class_small] < teacher_ma_prob_small\n",
    "cls_df.loc[ ~class_small, 'teacher_has_ma'] = u[~class_small] < teacher_ma_prob_large\n"
   ]
  },
  {
   "cell_type": "code",
   "execution_count": 7,
   "id": "93d16348-889c-4615-8b5a-4e4ac5399f4b",
   "metadata": {},
   "outputs": [],
   "source": [
    "# Merge classroom info to students and simulate test scores\n",
    "stu_df = stu_df.merge(cls_df, on='class_id', how='left')\n",
    "\n",
    "stu_df['test_score'] = test_score_coefs[0] + \\\n",
    "    test_score_coefs[1] * stu_df['ability'] + \\\n",
    "    test_score_coefs[2] * (stu_df['class_size']=='SMALL') + \\\n",
    "    test_score_coefs[3] * (stu_df['teacher_has_ma']) "
   ]
  },
  {
   "cell_type": "code",
   "execution_count": 8,
   "id": "ca7d4ea4-5efb-4ee5-9f7e-c84e9a971a91",
   "metadata": {},
   "outputs": [],
   "source": [
    "# Output datasets\n",
    "stu_df[['student_id', 'class_id', 'test_score', 'family_income', 'race', 'initial_assignment']].to_csv('../data/class_size/students.csv', header=True, index=False)\n",
    "cls_df[['class_id', 'class_size', 'teacher_has_ma']].to_csv('../data/class_size/classes.csv', header=True, index=False)\n"
   ]
  }
 ],
 "metadata": {
  "kernelspec": {
   "display_name": "Python 3 (ipykernel)",
   "language": "python",
   "name": "python3"
  },
  "language_info": {
   "codemirror_mode": {
    "name": "ipython",
    "version": 3
   },
   "file_extension": ".py",
   "mimetype": "text/x-python",
   "name": "python",
   "nbconvert_exporter": "python",
   "pygments_lexer": "ipython3",
   "version": "3.10.5"
  }
 },
 "nbformat": 4,
 "nbformat_minor": 5
}
