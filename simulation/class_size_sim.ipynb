{
 "cells": [
  {
   "cell_type": "code",
   "execution_count": 1,
   "id": "f8747bd1-da8b-4d4c-aea6-f533719036e0",
   "metadata": {},
   "outputs": [],
   "source": [
    "import numpy as np\n",
    "import pandas as pd\n",
    "np.random.seed(100) "
   ]
  },
  {
   "cell_type": "code",
   "execution_count": 2,
   "id": "93beb19c-ffc5-436f-90f2-566b5e1da070",
   "metadata": {},
   "outputs": [],
   "source": [
    "# Simulation parameters and exogenous factors\n",
    "\n",
    "n_reg = 4000  # cohort of regular students\n",
    "n_exp = 2000  # cohort of experimental students\n",
    "n_stu = n_reg + n_exp\n",
    "\n",
    "# Simulate race\n",
    "race_codes = ['WHITE', 'BLACK', 'HISPANIC', 'ASIAN'] # race codes\n",
    "race_probs = [0.5, 0.15, 0.2, 0.15] # race probabilities\n",
    "race = np.random.choice(race_codes, size=n_stu, replace=True, p=race_probs)\n",
    "\n",
    "# Simulate family income\n",
    "fam_inc_min = 30000  # min family income\n",
    "fam_inc_max = 150000 # max family income\n",
    "incdenom = np.log(fam_inc_max) - np.log(fam_inc_min)\n",
    "fam_inc = np.random.randint(low=fam_inc_min, high=fam_inc_max, size=n_stu)\n",
    "\n",
    "# ability score that depends on family income\n",
    "# ability = 10*(log(inc)-log(inc_min))/(log(inc_max)-log(inc_min)) + U[0,25]\n",
    "# range: 0-35\n",
    "ability_u = np.random.uniform(low=0, high=25, size=n_stu)\n",
    "ability = 10*(np.log(fam_inc) - np.log(fam_inc_min))/incdenom + ability_u\n",
    "\n",
    "# for regular cohort, class size assignment depends on income, ability, and race\n",
    "prob_small_reg = 0.1 + 0.2*(np.log(fam_inc) - np.log(fam_inc_min))/incdenom - 0.25*(race=='WHITE') - 0.3*(race=='ASIAN') + 0.02*ability_u\n",
    "\n",
    "# for experimental cohort, class size assignment is random\n",
    "prob_small_exp = 0.5\n",
    "\n",
    "# target class sizes\n",
    "class_sz_small = 15.0\n",
    "class_sz_large = 30.0\n",
    "\n",
    "# teacher MA assignment probs\n",
    "ma_small = 0.5\n",
    "ma_large = 0.4\n",
    "\n",
    "# schools\n",
    "n_schools = 20\n",
    "school_effect_range = 5  \n",
    "\n",
    "# test scores\n",
    "# test score = 45 + ability + 5*small + 10*ma + school_effect\n",
    "test_coefs = [45, 1, 5, 10, 1]\n",
    "\n",
    "# file locations\n",
    "stu_file = '../data/class_size/students.csv'\n",
    "cls_file = '../data/class_size/classes.csv'\n"
   ]
  },
  {
   "cell_type": "code",
   "execution_count": 3,
   "id": "f50f6649-5d6a-43d7-8310-2b92175ee3f8",
   "metadata": {},
   "outputs": [],
   "source": [
    "# Initialize student dataframe\n",
    "stu_df = pd.DataFrame.from_dict({\n",
    "    'family_income': fam_inc, \n",
    "    'race': race, \n",
    "    'ability': ability\n",
    "})\n",
    "\n",
    "stu_df['cohort'] = 'EXPERIMENTAL'\n",
    "stu_df.loc[0:n_reg-1, 'cohort'] = 'REGULAR'\n"
   ]
  },
  {
   "cell_type": "code",
   "execution_count": 4,
   "id": "fe53b709-007a-4f47-8cd8-05639a23e167",
   "metadata": {},
   "outputs": [],
   "source": [
    "# For regular cohort, class size assignment depends on income and race\n",
    "assign = np.random.uniform(size=n_stu) < prob_small_reg\n",
    "stu_df['class_size'] = 'LARGE'\n",
    "stu_df.loc[assign & (stu_df['cohort']=='REGULAR'), 'class_size'] = 'SMALL'\n"
   ]
  },
  {
   "cell_type": "code",
   "execution_count": 5,
   "id": "45895fae-9996-4f8f-b286-526fe860858d",
   "metadata": {},
   "outputs": [],
   "source": [
    "# For experimental cohort, class size assignment is random\n",
    "assign = np.random.uniform(size=n_stu) < prob_small_exp\n",
    "stu_df.loc[assign & (stu_df['cohort']=='EXPERIMENTAL'), 'class_size'] = 'SMALL'\n"
   ]
  },
  {
   "cell_type": "code",
   "execution_count": 6,
   "id": "eed036e6-63f3-4c50-ad9c-40bd6b626de3",
   "metadata": {},
   "outputs": [
    {
     "name": "stdout",
     "output_type": "stream",
     "text": [
      "SMALL: 2294 students, 152 classes, class_id range: 7001.0-7152.0\n",
      "LARGE: 3706 students, 123 classes, class_id range: 8001.0-8123.0\n"
     ]
    }
   ],
   "source": [
    "# Allocate students to classes\n",
    "\n",
    "n_stu_small = np.sum(stu_df['class_size']=='SMALL')\n",
    "n_stu_large = np.sum(stu_df['class_size']=='LARGE')\n",
    "\n",
    "n_classes_small = int(n_stu_small/class_sz_small)\n",
    "n_classes_large = int(n_stu_large/class_sz_large)\n",
    "\n",
    "small = stu_df['class_size']=='SMALL'\n",
    "\n",
    "stu_df['ord'] = 0\n",
    "stu_df.loc[small, 'ord'] = np.arange(n_stu_small)\n",
    "stu_df.loc[~small, 'ord'] = np.arange(n_stu_large)\n",
    "\n",
    "stu_df.loc[small, 'class_id'] = 7001 + (stu_df.loc[small, 'ord'] % n_classes_small)\n",
    "stu_df.loc[~small, 'class_id'] = 8001 + (stu_df.loc[~small, 'ord'] % n_classes_large)\n",
    "\n",
    "print(f\"SMALL: {n_stu_small} students, {n_classes_small} classes, class_id range: {stu_df.loc[small,'class_id'].min()}-{stu_df.loc[small,'class_id'].max()}\")\n",
    "print(f\"LARGE: {n_stu_large} students, {n_classes_large} classes, class_id range: {stu_df.loc[~small,'class_id'].min()}-{stu_df.loc[~small,'class_id'].max()}\")\n"
   ]
  },
  {
   "cell_type": "code",
   "execution_count": 7,
   "id": "f9d0ef7b-ef8d-4df5-a34a-4609c9cfc72f",
   "metadata": {},
   "outputs": [],
   "source": [
    "# Create class dataframe\n",
    "\n",
    "cls_df = stu_df.groupby(['class_id','class_size']).agg(n_students = ('ord','count')).reset_index()\n",
    "stu_df = stu_df.drop(labels='class_size', axis=1)\n",
    "\n",
    "# assign teacher ma\n",
    "n_cls = len(cls_df)\n",
    "small = cls_df['class_size']=='SMALL'\n",
    "u = np.random.uniform(size=n_cls)\n",
    "\n",
    "cls_df['teacher_has_ma'] = False\n",
    "cls_df.loc[small, 'teacher_has_ma'] = u[small] < ma_small\n",
    "cls_df.loc[~small, 'teacher_has_ma'] = u[~small] < ma_large\n",
    "\n",
    "# randomly allocate to schools\n",
    "cls_df['school_id'] = 9001 + np.random.randint(low=0, high=n_schools, size=n_cls)\n"
   ]
  },
  {
   "cell_type": "code",
   "execution_count": 8,
   "id": "39e631db-18fa-45d3-b75c-35b641fe5cf9",
   "metadata": {},
   "outputs": [],
   "source": [
    "# School effects dataframe\n",
    "\n",
    "sch_df = cls_df.groupby('school_id').agg(n_classes = ('class_id','count')).reset_index()\n",
    "sch_df['school_effect'] = np.random.uniform(low=-school_effect_range, high=school_effect_range, size=n_schools)\n"
   ]
  },
  {
   "cell_type": "code",
   "execution_count": 9,
   "id": "ab04e484-9c86-4c54-a3b8-af7e1f7262fb",
   "metadata": {},
   "outputs": [
    {
     "name": "stdout",
     "output_type": "stream",
     "text": [
      "Test score range: 41.197146772054566-97.66281600969505\n"
     ]
    }
   ],
   "source": [
    "# Test scores\n",
    "\n",
    "stu_df = stu_df.merge(cls_df, on='class_id', how='left')\n",
    "stu_df = stu_df.merge(sch_df, on='school_id', how='left')\n",
    "\n",
    "stu_df['test_score'] = test_coefs[0] + \\\n",
    "    test_coefs[1]*stu_df['ability'] + \\\n",
    "    test_coefs[2]*(stu_df['class_size']=='SMALL') + \\\n",
    "    test_coefs[3]*(stu_df['teacher_has_ma']) + \\\n",
    "    test_coefs[4]*(stu_df['school_effect'])\n",
    "\n",
    "print(f\"Test score range: {stu_df['test_score'].min()}-{stu_df['test_score'].max()}\")\n"
   ]
  },
  {
   "cell_type": "code",
   "execution_count": 10,
   "id": "37055362-421b-4433-9b3e-3648b569373d",
   "metadata": {},
   "outputs": [],
   "source": [
    "# Prepare output\n",
    "\n",
    "stu_df = stu_df.sample(frac=1).reset_index(drop=True)\n",
    "stu_df = stu_df.sort_values(by=['class_id'], ascending=True)\n",
    "stu_df['student_id'] = np.arange(n_stu)\n",
    "\n",
    "stu_df[['student_id', 'class_id', 'school_id', 'test_score', 'family_income', 'race', 'cohort']].to_csv(stu_file, header=True, index=False)\n",
    "cls_df[['class_id', 'school_id', 'n_students', 'class_size', 'teacher_has_ma']].to_csv(cls_file, header=True, index=False)\n"
   ]
  }
 ],
 "metadata": {
  "kernelspec": {
   "display_name": "Python 3 (ipykernel)",
   "language": "python",
   "name": "python3"
  },
  "language_info": {
   "codemirror_mode": {
    "name": "ipython",
    "version": 3
   },
   "file_extension": ".py",
   "mimetype": "text/x-python",
   "name": "python",
   "nbconvert_exporter": "python",
   "pygments_lexer": "ipython3",
   "version": "3.10.6"
  }
 },
 "nbformat": 4,
 "nbformat_minor": 5
}
