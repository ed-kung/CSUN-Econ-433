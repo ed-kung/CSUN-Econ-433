{
 "cells": [
  {
   "cell_type": "code",
   "execution_count": 1,
   "id": "8f91fa7e-4142-468a-a3fc-f423432cd559",
   "metadata": {},
   "outputs": [],
   "source": [
    "import pandas as pd\n",
    "import numpy as np\n",
    "\n",
    "rng = np.random.default_rng(199)\n"
   ]
  },
  {
   "cell_type": "code",
   "execution_count": 2,
   "id": "8bb2f661-a9d3-4690-9d1a-a39c119e3a3c",
   "metadata": {},
   "outputs": [],
   "source": [
    "N = 100000\n",
    "person_id = np.arange(0, N)\n",
    "age = rng.integers(low=20, high=51, size=N)\n",
    "employment_prob = 0.7 - 0.05*(age>=30) - 0.05*np.power((age-40)/20, 2)\n",
    "employed = (rng.uniform(size=N) <= employment_prob) * 1\n",
    "\n",
    "df = pd.DataFrame({\n",
    "    'person_id': person_id, \n",
    "    'age': age, \n",
    "    'employed': employed\n",
    "})\n"
   ]
  },
  {
   "cell_type": "code",
   "execution_count": 3,
   "id": "4b847c21-f2b1-4bf7-8de2-cde75de57da6",
   "metadata": {},
   "outputs": [],
   "source": [
    "df.to_csv(\"../data/rd/rd_data.csv\", header=True, index=False)"
   ]
  }
 ],
 "metadata": {
  "kernelspec": {
   "display_name": "Python 3 (ipykernel)",
   "language": "python",
   "name": "python3"
  },
  "language_info": {
   "codemirror_mode": {
    "name": "ipython",
    "version": 3
   },
   "file_extension": ".py",
   "mimetype": "text/x-python",
   "name": "python",
   "nbconvert_exporter": "python",
   "pygments_lexer": "ipython3",
   "version": "3.10.5"
  }
 },
 "nbformat": 4,
 "nbformat_minor": 5
}
