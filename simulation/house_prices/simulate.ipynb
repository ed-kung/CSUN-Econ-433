{
 "cells": [
  {
   "cell_type": "code",
   "execution_count": 1,
   "id": "a8fba2fb-c4a8-4760-a5db-e5a6a53c6c4d",
   "metadata": {},
   "outputs": [],
   "source": [
    "import numpy as np\n",
    "import pandas as pd\n",
    "from matplotlib import pyplot as plt\n",
    "rng = np.random.default_rng(42)"
   ]
  },
  {
   "cell_type": "code",
   "execution_count": 2,
   "id": "fedd73ab-5de6-4c91-b9bf-d6c03c1787cc",
   "metadata": {},
   "outputs": [],
   "source": [
    "hpi_df = pd.read_csv(\"hpi.csv\")\n",
    "base_df = pd.read_csv(\"base.csv\")"
   ]
  },
  {
   "cell_type": "code",
   "execution_count": 3,
   "id": "15108ce8-8c1c-4da9-b0ac-1309e3607e34",
   "metadata": {},
   "outputs": [],
   "source": [
    "# Year FE\n",
    "year_list = sorted(list(hpi_df['YEAR'].unique()))\n",
    "year_fe = {}\n",
    "for idx, row in hpi_df.iterrows():\n",
    "    year_fe[row['YEAR']] = np.log(row['HPI']/100)"
   ]
  },
  {
   "cell_type": "code",
   "execution_count": 4,
   "id": "802928b4-6378-4f02-93e5-3e25b0d21d90",
   "metadata": {},
   "outputs": [],
   "source": [
    "# Zip FE\n",
    "zip_list = range(8001, 8022)\n",
    "zip_fe = {}\n",
    "zip_rural = {}\n",
    "for z in zip_list:\n",
    "    zip_rural[z] = rng.integers(0,2)\n",
    "    if zip_rural[z]==0:\n",
    "        zip_fe[z] = rng.uniform(low=0,high=1.5)\n",
    "    else:\n",
    "        zip_fe[z] = rng.uniform(low=-0.5,high=0)"
   ]
  },
  {
   "cell_type": "code",
   "execution_count": 5,
   "id": "779c00c7-e938-4fdd-a170-fff0317f2371",
   "metadata": {},
   "outputs": [],
   "source": [
    "# Create fake years and zipcodes\n",
    "df = base_df.copy()\n",
    "df['sale_year'] = rng.choice(year_list, size=len(df))\n",
    "df['zipcode'] = rng.choice(zip_list, size=len(df))"
   ]
  },
  {
   "cell_type": "code",
   "execution_count": 6,
   "id": "c6515ae1-f310-48eb-a66e-56ea8dbc1f1b",
   "metadata": {},
   "outputs": [],
   "source": [
    "# Modify year built so that year built can't be larger than sale_year\n",
    "df['age_at_sale'] = 2022 - df['year_built']\n",
    "df['year_built'] = df['sale_year'] - df['age_at_sale']\n",
    "df['built_before_1977'] = (df['year_built']<1977)*1"
   ]
  },
  {
   "cell_type": "code",
   "execution_count": 7,
   "id": "bb75ea8b-912a-499f-9aa1-a093f42fab4d",
   "metadata": {},
   "outputs": [],
   "source": [
    "# Attach FEs to the dataframe\n",
    "df['year_fe'] = 0.0\n",
    "df['zip_fe'] = 0.0\n",
    "df['zip_rural'] = 0\n",
    "for idx, row in df.iterrows():\n",
    "    df.loc[idx,'year_fe'] = year_fe[row['sale_year']]\n",
    "    df.loc[idx,'zip_fe'] = zip_fe[row['zipcode']]\n",
    "    df.loc[idx,'zip_rural'] = zip_rural[row['zipcode']]"
   ]
  },
  {
   "cell_type": "code",
   "execution_count": 8,
   "id": "d8d76e11-e593-404e-acca-9150ba09ea1c",
   "metadata": {},
   "outputs": [],
   "source": [
    "# Simulate prices\n",
    "df['log_price'] = np.log(500) + \\\n",
    "    0.67*np.log(df['sq_ft']) + \\\n",
    "    0.23*np.log(df['lot_sq_ft']) + \\\n",
    "    0.09*(df['num_bedrooms']) + \\\n",
    "    0.15*(df['num_bathrooms']) + \\\n",
    "    -0.08*(df['built_before_1977']) + \\\n",
    "    0.11*df['has_garage'] + \\\n",
    "    0.17*df['has_view'] + \\\n",
    "    df['year_fe'] + \\\n",
    "    df['zip_fe'] + \\\n",
    "    0.23*df['zip_rural']*(df['sale_year']>=2020) + \\\n",
    "    rng.normal(loc=0, scale=0.1, size=len(df))\n",
    "\n",
    "df['sale_price'] = np.round(np.exp(df['log_price'])/1000)*1000"
   ]
  },
  {
   "cell_type": "code",
   "execution_count": 9,
   "id": "7b9037e1-4bb8-4d3b-9158-96ae38cbcb79",
   "metadata": {},
   "outputs": [],
   "source": [
    "# Output dataframes\n",
    "df = df.sort_values(by='sale_year', ascending=True).reset_index(drop=True)\n",
    "df['sale_id'] = df.index\n",
    "\n",
    "sale_df = df[['sale_id', 'sale_price', 'sale_year', 'zipcode', 'sq_ft', 'lot_sq_ft', 'num_bedrooms', 'num_bathrooms', 'built_before_1977', 'has_garage', 'has_view']]\n",
    "sale_df.to_csv(\"sales.csv\", header=True, index=False)\n",
    "\n",
    "zip_df = df[['zipcode', 'zip_rural']].drop_duplicates().rename(columns={'zip_rural':'is_rural'}).sort_values(by='zipcode',ascending=True).reset_index(drop=True)\n",
    "zip_df.to_csv(\"zips.csv\", header=True, index=False)\n"
   ]
  }
 ],
 "metadata": {
  "kernelspec": {
   "display_name": "Python 3 (ipykernel)",
   "language": "python",
   "name": "python3"
  },
  "language_info": {
   "codemirror_mode": {
    "name": "ipython",
    "version": 3
   },
   "file_extension": ".py",
   "mimetype": "text/x-python",
   "name": "python",
   "nbconvert_exporter": "python",
   "pygments_lexer": "ipython3",
   "version": "3.10.6"
  }
 },
 "nbformat": 4,
 "nbformat_minor": 5
}
